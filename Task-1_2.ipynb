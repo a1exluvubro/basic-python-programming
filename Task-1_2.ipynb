{
 "cells": [
  {
   "cell_type": "code",
   "execution_count": null,
   "id": "6ec204e7",
   "metadata": {},
   "outputs": [],
   "source": []
  },
  {
   "cell_type": "markdown",
   "id": "aae158d6",
   "metadata": {},
   "source": [
    "## Задание\n",
    "\n",
    "Написать программу, получающую от пользователя длины катетов прямоугольного треугольника и выводящую на экран строку \"Площадь треугольника равна S\". Величину S рассчитать используя длины катетов и оператор умножения `*`. При вводе длин катетов выдать пользователю соответствующие сообщения."
   ]
  },
  {
   "cell_type": "markdown",
   "id": "0f10bef2",
   "metadata": {},
   "source": [
    "## Задание\n",
    "\n",
    "Элементы матрицы с 7 столбцами пронумерованы в порядке слева-направо, сверху-вниз, начиная с 0. На какой строке и в каком столбце расположен элемент под номером 1388?"
   ]
  },
  {
   "cell_type": "markdown",
   "id": "923d83ed",
   "metadata": {},
   "source": [
    "## Задание\n",
    "\n",
    "1. Вычислить объем шара радиуса 1\n",
    "\n",
    "2. Проверить равенство $e^{i\\pi} = -1$"
   ]
  },
  {
   "cell_type": "markdown",
   "id": "abc3f8e6",
   "metadata": {},
   "source": [
    "## Задание\n",
    "\n",
    "Катет $a$ прямоугольного треугольника равен $4$, а противолежащий ему угол $\\alpha$ равен $60^\\circ$. Найти площадь треугольника.\n",
    "\n"
   ]
  },
  {
   "cell_type": "markdown",
   "id": "93ca91ac",
   "metadata": {},
   "source": [
    "## Задание\n",
    "\n",
    "Написать программу, которая по величине эксцентриситета (введенной пользователем) выведет на экран тип околоземной орбиты.\n",
    "\n",
    "Связь величины эксцентриситета $e$ с типом орбиты:\n",
    "- $e = 0$ - круговая орбита\n",
    "- $0 < e < 1$ - эллиптическая орбита\n",
    "- $e = 1$ - параболическая орбита\n",
    "- $1 < e < \\infty$ - гиперболическая орбита\n",
    "- $e = \\infty$ - прямая\n",
    "\n",
    "Константа, соответствующая $\\infty$ есть в модуле `math` и называется `inf`"
   ]
  },
  {
   "cell_type": "markdown",
   "id": "8e9b1fcb",
   "metadata": {},
   "source": [
    "## Задание\n",
    "\n",
    "Проверить равенство $\\sum\\limits_{k=0}^{\\infty}\\frac{1}{k!} = e$, посчитав частичную сумму ряда."
   ]
  },
  {
   "cell_type": "markdown",
   "id": "6b0937af",
   "metadata": {},
   "source": [
    "## Задание\n",
    "\n",
    "Рассчитать количество `n` членов ряда, при котором равенство $\\sum\\limits_{k=1}^{n}\\frac{(-1)^{k+1}}{k^2} \\approx \\frac{\\pi^2}{12}$ достигается с точностью $10^{-10}$.\n",
    "\n",
    "Модуль числа возвращает функция `abs`."
   ]
  },
  {
   "cell_type": "markdown",
   "id": "fb028a29",
   "metadata": {},
   "source": [
    "## Задание\n",
    "\n",
    "Вывести на экран названия всех файлов, в которые должны быть записаны результаты расчетов.\n",
    "Расчеты определяются параметрами:\n",
    "- `n` - целое число в полуинтервале [0, 20) с шагом 5\n",
    "- `z` - действительное число на отрезке [0.0, 100.0] с шагом в 10.0\n",
    "\n",
    "Шаблон имени файла:\n",
    "`'results_n00_z000.bin'`"
   ]
  },
  {
   "cell_type": "markdown",
   "id": "deb492a7",
   "metadata": {},
   "source": [
    "## Задание\n",
    "\n",
    "Из строки `Съешь ещё этих мягких французских булок, да выпей же чаю` при помощи индексации и срезов собрать строку `французский еж Съел чулок`."
   ]
  },
  {
   "cell_type": "markdown",
   "id": "76bb62ba",
   "metadata": {},
   "source": [
    "## Задание\n",
    "\n",
    "Дана строка:\n",
    "\n",
    "```\n",
    "'results_n00_z000.bin\\nresults_n00_z010.bin\\nresults_n00_z020.bin\\nresults_n00_z030.bin\\nresults_n00_z040.bin\\nresults_n00_z050.bin\\nresults_n00_z060.bin\\nresults_n00_z070.bin\\nresults_n00_z080.bin\\nresults_n00_z090.bin\\nresults_n00_z100.bin\\nresults_n05_z000.bin\\nresults_n05_z010.bin\\nresults_n05_z020.bin\\nresults_n05_z030.bin\\nresults_n05_z040.bin\\nresults_n05_z050.bin\\nresults_n05_z060.bin\\nresults_n05_z070.bin\\nresults_n05_z080.bin\\nresults_n05_z090.bin\\nresults_n05_z100.bin\\nresults_n10_z000.bin\\nresults_n10_z010.bin\\nresults_n10_z020.bin\\nresults_n10_z030.bin\\nresults_n10_z040.bin\\nresults_n10_z050.bin\\nresults_n10_z060.bin\\nresults_n10_z070.bin\\nresults_n10_z080.bin\\nresults_n10_z090.bin\\nresults_n10_z100.bin\\nresults_n15_z000.bin\\nresults_n15_z010.bin\\nresults_n15_z020.bin\\nresults_n15_z030.bin\\nresults_n15_z040.bin\\nresults_n15_z050.bin\\nresults_n15_z060.bin\\nresults_n15_z070.bin\\nresults_n15_z080.bin\\nresults_n15_z090.bin\\nresults_n15_z100.bin\\n'\n",
    "```\n",
    "\n",
    "Строка содержит имена файлов, созданных по шаблону: `results_n00_z000.bin`, где после символов `n` и `z` расположены их значения.\n",
    "\n",
    "Необходимо вывести на экран все пары (n, z)."
   ]
  },
  {
   "cell_type": "markdown",
   "id": "e42259aa",
   "metadata": {},
   "source": [
    "## Задание\n",
    "\n",
    "Для [текста](http://www.benjamin.ru/humour/ivanov/0020.html) cоздать список из кортежей и вывести его на экран.\n",
    "\n",
    "Формат кортежа:\n",
    "`(слово, длина слова, количество гласных букв)`\n"
   ]
  },
  {
   "cell_type": "code",
   "execution_count": null,
   "id": "9f9ec73f",
   "metadata": {},
   "outputs": [],
   "source": []
  },
  {
   "cell_type": "code",
   "execution_count": null,
   "id": "49c766bc",
   "metadata": {},
   "outputs": [],
   "source": []
  }
 ],
 "metadata": {
  "kernelspec": {
   "display_name": "Python 3",
   "language": "python",
   "name": "python3"
  },
  "language_info": {
   "codemirror_mode": {
    "name": "ipython",
    "version": 3
   },
   "file_extension": ".py",
   "mimetype": "text/x-python",
   "name": "python",
   "nbconvert_exporter": "python",
   "pygments_lexer": "ipython3",
   "version": "3.10.10 (tags/v3.10.10:aad5f6a, Feb  7 2023, 17:20:36) [MSC v.1929 64 bit (AMD64)]"
  },
  "vscode": {
   "interpreter": {
    "hash": "3e4cd92d03ed3a94cb16e317d49e728b12ff6765d2a6ffb676ebeaf0c272d01f"
   }
  }
 },
 "nbformat": 4,
 "nbformat_minor": 5
}
